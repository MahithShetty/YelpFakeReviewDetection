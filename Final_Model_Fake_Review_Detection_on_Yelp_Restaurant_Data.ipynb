{
  "nbformat": 4,
  "nbformat_minor": 0,
  "metadata": {
    "colab": {
      "name": "Final Model Fake Review Detection on Yelp Restaurant Data.ipynb",
      "provenance": [],
      "collapsed_sections": [],
      "include_colab_link": true
    },
    "kernelspec": {
      "name": "python3",
      "display_name": "Python 3"
    },
    "accelerator": "TPU"
  },
  "cells": [
    {
      "cell_type": "markdown",
      "metadata": {
        "id": "view-in-github",
        "colab_type": "text"
      },
      "source": [
        "<a href=\"https://colab.research.google.com/github/MahithShetty/YelpFakeReviewDetection/blob/main/Final_Model_Fake_Review_Detection_on_Yelp_Restaurant_Data.ipynb\" target=\"_parent\"><img src=\"https://colab.research.google.com/assets/colab-badge.svg\" alt=\"Open In Colab\"/></a>"
      ]
    },
    {
      "cell_type": "markdown",
      "metadata": {
        "id": "soLnWRFeqFWV"
      },
      "source": [
        "# Importing Dataset"
      ]
    },
    {
      "cell_type": "markdown",
      "metadata": {
        "id": "Hjn-80RPpZvg"
      },
      "source": [
        "Importing data set from google drive"
      ]
    },
    {
      "cell_type": "code",
      "metadata": {
        "id": "49525DhVpiHR"
      },
      "source": [
        "from pydrive.auth import GoogleAuth\n",
        "from pydrive.drive import GoogleDrive\n",
        "from google.colab import auth\n",
        "from oauth2client.client import GoogleCredentials\n",
        "auth.authenticate_user()\n",
        "gauth = GoogleAuth()\n",
        "gauth.credentials = GoogleCredentials.get_application_default()\n",
        "drive = GoogleDrive(gauth)"
      ],
      "execution_count": null,
      "outputs": []
    },
    {
      "cell_type": "code",
      "metadata": {
        "id": "g8rESthcpltq"
      },
      "source": [
        "link = 'https://drive.google.com/open?id=1LXx1PmNFrQzrxxlC5IkcLIUiNf-xEGge'\n",
        "fluff, id = link.split('=')"
      ],
      "execution_count": null,
      "outputs": []
    },
    {
      "cell_type": "code",
      "metadata": {
        "id": "HCXiVoZNpzYH",
        "colab": {
          "base_uri": "https://localhost:8080/",
          "height": 520
        },
        "outputId": "013c90a3-682b-4a52-984d-47ebfa8f08ea"
      },
      "source": [
        "import pandas as pd\n",
        "import numpy as np\n",
        "\n",
        "downloaded = drive.CreateFile({'id':id}) \n",
        "downloaded.GetContentFile('yelp_restaurants_500k.csv')  \n",
        "data = pd.read_csv('yelp_restaurants_500k.csv', header=0, sep=',', quotechar='\"')"
      ],
      "execution_count": null,
      "outputs": [
        {
          "output_type": "stream",
          "text": [
            "WARNING:googleapiclient.discovery_cache:file_cache is unavailable when using oauth2client >= 4.0.0 or google-auth\n",
            "Traceback (most recent call last):\n",
            "  File \"/usr/local/lib/python3.6/dist-packages/googleapiclient/discovery_cache/__init__.py\", line 36, in autodetect\n",
            "    from google.appengine.api import memcache\n",
            "ModuleNotFoundError: No module named 'google.appengine'\n",
            "\n",
            "During handling of the above exception, another exception occurred:\n",
            "\n",
            "Traceback (most recent call last):\n",
            "  File \"/usr/local/lib/python3.6/dist-packages/googleapiclient/discovery_cache/file_cache.py\", line 33, in <module>\n",
            "    from oauth2client.contrib.locked_file import LockedFile\n",
            "ModuleNotFoundError: No module named 'oauth2client.contrib.locked_file'\n",
            "\n",
            "During handling of the above exception, another exception occurred:\n",
            "\n",
            "Traceback (most recent call last):\n",
            "  File \"/usr/local/lib/python3.6/dist-packages/googleapiclient/discovery_cache/file_cache.py\", line 37, in <module>\n",
            "    from oauth2client.locked_file import LockedFile\n",
            "ModuleNotFoundError: No module named 'oauth2client.locked_file'\n",
            "\n",
            "During handling of the above exception, another exception occurred:\n",
            "\n",
            "Traceback (most recent call last):\n",
            "  File \"/usr/local/lib/python3.6/dist-packages/googleapiclient/discovery_cache/__init__.py\", line 42, in autodetect\n",
            "    from . import file_cache\n",
            "  File \"/usr/local/lib/python3.6/dist-packages/googleapiclient/discovery_cache/file_cache.py\", line 41, in <module>\n",
            "    \"file_cache is unavailable when using oauth2client >= 4.0.0 or google-auth\"\n",
            "ImportError: file_cache is unavailable when using oauth2client >= 4.0.0 or google-auth\n"
          ],
          "name": "stderr"
        }
      ]
    },
    {
      "cell_type": "markdown",
      "metadata": {
        "id": "xnxSp74dqQuf"
      },
      "source": [
        "# Data Pre-processing"
      ]
    },
    {
      "cell_type": "code",
      "metadata": {
        "id": "SbbBn9Hgp3gB",
        "colab": {
          "base_uri": "https://localhost:8080/",
          "height": 189
        },
        "outputId": "07d91b36-090e-4b97-d89e-089f583b4a18"
      },
      "source": [
        "data['reviewContent'] = data.reviewContent.astype(str)\n",
        "textData = pd.DataFrame(list(data['reviewContent']))\n",
        "textData.head()"
      ],
      "execution_count": null,
      "outputs": [
        {
          "output_type": "execute_result",
          "data": {
            "text/html": [
              "<div>\n",
              "<style scoped>\n",
              "    .dataframe tbody tr th:only-of-type {\n",
              "        vertical-align: middle;\n",
              "    }\n",
              "\n",
              "    .dataframe tbody tr th {\n",
              "        vertical-align: top;\n",
              "    }\n",
              "\n",
              "    .dataframe thead th {\n",
              "        text-align: right;\n",
              "    }\n",
              "</style>\n",
              "<table border=\"1\" class=\"dataframe\">\n",
              "  <thead>\n",
              "    <tr style=\"text-align: right;\">\n",
              "      <th></th>\n",
              "      <th>0</th>\n",
              "    </tr>\n",
              "  </thead>\n",
              "  <tbody>\n",
              "    <tr>\n",
              "      <th>0</th>\n",
              "      <td>The food is amazing.  I have two tickets for t...</td>\n",
              "    </tr>\n",
              "    <tr>\n",
              "      <th>1</th>\n",
              "      <td>I did not know what to expect from this restau...</td>\n",
              "    </tr>\n",
              "    <tr>\n",
              "      <th>2</th>\n",
              "      <td>I liked the services offered by (Alinea) resta...</td>\n",
              "    </tr>\n",
              "    <tr>\n",
              "      <th>3</th>\n",
              "      <td>I liked the services offered by (Alinea) resta...</td>\n",
              "    </tr>\n",
              "    <tr>\n",
              "      <th>4</th>\n",
              "      <td>Presumably one of the best restaurants in Amer...</td>\n",
              "    </tr>\n",
              "  </tbody>\n",
              "</table>\n",
              "</div>"
            ],
            "text/plain": [
              "                                                   0\n",
              "0  The food is amazing.  I have two tickets for t...\n",
              "1  I did not know what to expect from this restau...\n",
              "2  I liked the services offered by (Alinea) resta...\n",
              "3  I liked the services offered by (Alinea) resta...\n",
              "4  Presumably one of the best restaurants in Amer..."
            ]
          },
          "metadata": {
            "tags": []
          },
          "execution_count": 4
        }
      ]
    },
    {
      "cell_type": "markdown",
      "metadata": {
        "id": "yh79WyTCrBLl"
      },
      "source": [
        "Making a customized list of stop words"
      ]
    },
    {
      "cell_type": "code",
      "metadata": {
        "id": "vTbjGEOpqfk_",
        "colab": {
          "base_uri": "https://localhost:8080/",
          "height": 124
        },
        "outputId": "640a4ac2-ecc6-49f3-ada8-6fdd411ce0b1"
      },
      "source": [
        "import nltk\n",
        "import re\n",
        "import string\n",
        "from string import ascii_lowercase\n",
        "\n",
        "from nltk import word_tokenize\n",
        "nltk.download('punkt')\n",
        "nltk.download('wordnet')\n",
        "nltk.download('stopwords')\n",
        "\n",
        "stopwords = nltk.corpus.stopwords.words('english')\n",
        "wn = nltk.WordNetLemmatizer()\n",
        "\n",
        "stopwords.extend([ 'place', 'room', 'im','ive','cant', 'youre', 'may','also','zero','one','two','three','four','five','six','seven','eight','nine','ten','across','among','beside','however','yet','within','hotel','stay']+list(ascii_lowercase))\n",
        "stoplist = [wn.lemmatize(stopword) for stopword in stopwords]\n",
        "stoplist = set(stoplist)\n",
        "stopList2 = [''.join(x for x in s if x not in string.punctuation) for s in stopwords]\n",
        "stopWords = set(sorted(stopwords + list(stoplist) + stopList2))"
      ],
      "execution_count": null,
      "outputs": [
        {
          "output_type": "stream",
          "text": [
            "[nltk_data] Downloading package punkt to /root/nltk_data...\n",
            "[nltk_data]   Unzipping tokenizers/punkt.zip.\n",
            "[nltk_data] Downloading package wordnet to /root/nltk_data...\n",
            "[nltk_data]   Unzipping corpora/wordnet.zip.\n",
            "[nltk_data] Downloading package stopwords to /root/nltk_data...\n",
            "[nltk_data]   Unzipping corpora/stopwords.zip.\n"
          ],
          "name": "stdout"
        }
      ]
    },
    {
      "cell_type": "markdown",
      "metadata": {
        "id": "6YCZEtxsrKB8"
      },
      "source": [
        "Cleaning Text\n",
        "- Remove punctions\n",
        "- Remove digits\n",
        "- Split sentences on whitespace \n",
        "- Remove stopwords"
      ]
    },
    {
      "cell_type": "code",
      "metadata": {
        "id": "xhPwHM_Sq7Es",
        "colab": {
          "base_uri": "https://localhost:8080/",
          "height": 232
        },
        "outputId": "e5c346fb-5bb6-4060-de38-ba723c431833"
      },
      "source": [
        "def clean_text(text):\n",
        "    text = \"\".join([word.lower() for word in text if word not in string.punctuation])\n",
        "    text = re.sub(\"\\d+\", \"\", text)\n",
        "    tokens = re.split('\\W+', text)\n",
        "    text = \" \".join([wn.lemmatize(word) for word in tokens if word not in stopWords and wn.lemmatize(word) not in stopWords])\n",
        "    return text\n",
        "data['data_lemmatized'] = data['reviewContent'].apply(lambda x: clean_text(x.lower()))\n",
        "\n",
        "data['data_lemmatized']"
      ],
      "execution_count": null,
      "outputs": [
        {
          "output_type": "execute_result",
          "data": {
            "text/plain": [
              "0         food amazing ticket tomorrow night sunday anyo...\n",
              "1         know expect restaurant heard restaurant look l...\n",
              "2         liked service offered alinea restaurant defini...\n",
              "3         liked service offered alinea restaurant defini...\n",
              "4         presumably best restaurant america prepared bl...\n",
              "                                ...                        \n",
              "499995    favorite north end restaurant came month ago l...\n",
              "499996    great food great beer black bean maduro plaint...\n",
              "499997    interesting store many cool specimen staff kno...\n",
              "499998    love perfect drink go chris working fabulous b...\n",
              "499999    bundled best winter coat braved icy cold weath...\n",
              "Name: data_lemmatized, Length: 500000, dtype: object"
            ]
          },
          "metadata": {
            "tags": []
          },
          "execution_count": 6
        }
      ]
    },
    {
      "cell_type": "code",
      "metadata": {
        "id": "hq3cqUkqsOPT"
      },
      "source": [
        "# cleaning the date string\n",
        "data['date'] = data['date'].str.replace(r'[^0-9/]+', '')"
      ],
      "execution_count": null,
      "outputs": []
    },
    {
      "cell_type": "markdown",
      "metadata": {
        "id": "reynlPIdtknn"
      },
      "source": [
        "Adding custom features"
      ]
    },
    {
      "cell_type": "code",
      "metadata": {
        "id": "8pb2NF3iuj01"
      },
      "source": [
        "# We will be using only 150 words for learning for each review\n",
        "def trim_data_lem(text):\n",
        "  text = word_tokenize(text)\n",
        "  temp = \" \".join(x for x in text[:148])\n",
        "  return temp\n",
        "data['trim_data_lemmatized'] = data['data_lemmatized'].apply(lambda x : trim_data_lem(x))\n",
        "maxReviewLength = 155"
      ],
      "execution_count": null,
      "outputs": []
    },
    {
      "cell_type": "code",
      "metadata": {
        "id": "uSKBhkmTuv7U"
      },
      "source": [
        "# adding all the features and other parameters\n",
        "data['final_data_lemmatized'] = data['trim_data_lemmatized'].astype(str) + \" \"+ data['restaurantID'].astype(str) + \" \" + data['reviewerID'].astype(str)+ \" \" + data['rating'].astype(str)+ \" \" + data['date'].astype(str) + \" \" + data['usefulCount'].astype(str)+ \" \" +data['coolCount'].astype(str) + \" \" + data['funnyCount'].astype(str) "
      ],
      "execution_count": null,
      "outputs": []
    },
    {
      "cell_type": "code",
      "metadata": {
        "id": "fpHWur1Iu4Oz",
        "colab": {
          "base_uri": "https://localhost:8080/",
          "height": 274
        },
        "outputId": "aa962deb-f36d-4d8b-cb81-cc2e6c5c8ca0"
      },
      "source": [
        "data['reviewLength_after_lemmatize']= data['final_data_lemmatized'].apply(lambda x: len(x)-x.count(\" \"))\n",
        "data.describe()"
      ],
      "execution_count": null,
      "outputs": [
        {
          "output_type": "execute_result",
          "data": {
            "text/html": [
              "<div>\n",
              "<style scoped>\n",
              "    .dataframe tbody tr th:only-of-type {\n",
              "        vertical-align: middle;\n",
              "    }\n",
              "\n",
              "    .dataframe tbody tr th {\n",
              "        vertical-align: top;\n",
              "    }\n",
              "\n",
              "    .dataframe thead th {\n",
              "        text-align: right;\n",
              "    }\n",
              "</style>\n",
              "<table border=\"1\" class=\"dataframe\">\n",
              "  <thead>\n",
              "    <tr style=\"text-align: right;\">\n",
              "      <th></th>\n",
              "      <th>Unnamed: 0</th>\n",
              "      <th>rating</th>\n",
              "      <th>usefulCount</th>\n",
              "      <th>coolCount</th>\n",
              "      <th>funnyCount</th>\n",
              "      <th>reviewLength_after_lemmatize</th>\n",
              "    </tr>\n",
              "  </thead>\n",
              "  <tbody>\n",
              "    <tr>\n",
              "      <th>count</th>\n",
              "      <td>500000.000000</td>\n",
              "      <td>500000.000000</td>\n",
              "      <td>500000.000000</td>\n",
              "      <td>500000.000000</td>\n",
              "      <td>500000.000000</td>\n",
              "      <td>500000.000000</td>\n",
              "    </tr>\n",
              "    <tr>\n",
              "      <th>mean</th>\n",
              "      <td>98523.282068</td>\n",
              "      <td>3.753800</td>\n",
              "      <td>1.472662</td>\n",
              "      <td>0.974176</td>\n",
              "      <td>0.817584</td>\n",
              "      <td>404.090258</td>\n",
              "    </tr>\n",
              "    <tr>\n",
              "      <th>std</th>\n",
              "      <td>67136.817261</td>\n",
              "      <td>1.129899</td>\n",
              "      <td>2.698756</td>\n",
              "      <td>2.212480</td>\n",
              "      <td>2.216016</td>\n",
              "      <td>236.987768</td>\n",
              "    </tr>\n",
              "    <tr>\n",
              "      <th>min</th>\n",
              "      <td>0.000000</td>\n",
              "      <td>1.000000</td>\n",
              "      <td>0.000000</td>\n",
              "      <td>0.000000</td>\n",
              "      <td>0.000000</td>\n",
              "      <td>56.000000</td>\n",
              "    </tr>\n",
              "    <tr>\n",
              "      <th>25%</th>\n",
              "      <td>38898.750000</td>\n",
              "      <td>3.000000</td>\n",
              "      <td>0.000000</td>\n",
              "      <td>0.000000</td>\n",
              "      <td>0.000000</td>\n",
              "      <td>218.000000</td>\n",
              "    </tr>\n",
              "    <tr>\n",
              "      <th>50%</th>\n",
              "      <td>91490.500000</td>\n",
              "      <td>4.000000</td>\n",
              "      <td>1.000000</td>\n",
              "      <td>0.000000</td>\n",
              "      <td>0.000000</td>\n",
              "      <td>342.000000</td>\n",
              "    </tr>\n",
              "    <tr>\n",
              "      <th>75%</th>\n",
              "      <td>153990.250000</td>\n",
              "      <td>5.000000</td>\n",
              "      <td>2.000000</td>\n",
              "      <td>1.000000</td>\n",
              "      <td>1.000000</td>\n",
              "      <td>543.000000</td>\n",
              "    </tr>\n",
              "    <tr>\n",
              "      <th>max</th>\n",
              "      <td>241696.000000</td>\n",
              "      <td>5.000000</td>\n",
              "      <td>208.000000</td>\n",
              "      <td>170.000000</td>\n",
              "      <td>191.000000</td>\n",
              "      <td>1156.000000</td>\n",
              "    </tr>\n",
              "  </tbody>\n",
              "</table>\n",
              "</div>"
            ],
            "text/plain": [
              "          Unnamed: 0  ...  reviewLength_after_lemmatize\n",
              "count  500000.000000  ...                 500000.000000\n",
              "mean    98523.282068  ...                    404.090258\n",
              "std     67136.817261  ...                    236.987768\n",
              "min         0.000000  ...                     56.000000\n",
              "25%     38898.750000  ...                    218.000000\n",
              "50%     91490.500000  ...                    342.000000\n",
              "75%    153990.250000  ...                    543.000000\n",
              "max    241696.000000  ...                   1156.000000\n",
              "\n",
              "[8 rows x 6 columns]"
            ]
          },
          "metadata": {
            "tags": []
          },
          "execution_count": 11
        }
      ]
    },
    {
      "cell_type": "markdown",
      "metadata": {
        "id": "8wV6M24qwutk"
      },
      "source": [
        "# Labeling"
      ]
    },
    {
      "cell_type": "markdown",
      "metadata": {
        "id": "xqfRqoma0G4W"
      },
      "source": [
        "Y/YR - Filtered Reviews - 1 \n",
        "\n",
        "N/NR - Non-Filtered Reviews - 0"
      ]
    },
    {
      "cell_type": "code",
      "metadata": {
        "id": "Gystjbhg0CLt",
        "colab": {
          "base_uri": "https://localhost:8080/",
          "height": 232
        },
        "outputId": "b3682829-4b80-4cdf-d187-50f446d8b0c9"
      },
      "source": [
        "from keras.utils.np_utils import to_categorical\n",
        "\n",
        "data['flagged'] = np.where(np.logical_or(data['flagged']=='NR' , data['flagged']=='N'), 0, 1)\n",
        "data['flagged']\n",
        "\n",
        "def specific_class(c):\n",
        "    if c['flagged'] == 0:\n",
        "        return \"TRUTH\"\n",
        "    else:\n",
        "        return \"FAKE\"\n",
        "    \n",
        "data['given_class'] = data.apply(specific_class, axis=1)\n",
        "print(data['given_class'])"
      ],
      "execution_count": null,
      "outputs": [
        {
          "output_type": "stream",
          "text": [
            "0          FAKE\n",
            "1          FAKE\n",
            "2          FAKE\n",
            "3          FAKE\n",
            "4          FAKE\n",
            "          ...  \n",
            "499995    TRUTH\n",
            "499996    TRUTH\n",
            "499997    TRUTH\n",
            "499998    TRUTH\n",
            "499999    TRUTH\n",
            "Name: given_class, Length: 500000, dtype: object\n"
          ],
          "name": "stdout"
        }
      ]
    },
    {
      "cell_type": "code",
      "metadata": {
        "id": "zPf7lFKY0lFt",
        "colab": {
          "base_uri": "https://localhost:8080/",
          "height": 355
        },
        "outputId": "4235f0df-f6d8-46f9-f129-bc7f782c8d27"
      },
      "source": [
        "import matplotlib.pyplot as plt\n",
        "from sklearn.preprocessing import LabelEncoder\n",
        "plt.style.use('ggplot')\n",
        "import seaborn as sns\n",
        "sns.set_style('white')\n",
        "\n",
        "label = data.given_class\n",
        "\n",
        "pd.Series(label).value_counts().plot(kind='pie', title='Labels Distribution', figsize=(5, 5))\n",
        "\n",
        "le = LabelEncoder()\n",
        "le.fit(label)\n",
        "dummy_y = le.transform(label)"
      ],
      "execution_count": null,
      "outputs": [
        {
          "output_type": "stream",
          "text": [
            "/usr/local/lib/python3.6/dist-packages/statsmodels/tools/_testing.py:19: FutureWarning: pandas.util.testing is deprecated. Use the functions in the public API at pandas.testing instead.\n",
            "  import pandas.util.testing as tm\n"
          ],
          "name": "stderr"
        },
        {
          "output_type": "display_data",
          "data": {
            "image/png": "[encoded data removed]",
            "text/plain": [
              "<Figure size 360x360 with 1 Axes>"
            ]
          },
          "metadata": {
            "tags": []
          }
        }
      ]
    },
    {
      "cell_type": "markdown",
      "metadata": {
        "id": "7tju4QYC1Kxn"
      },
      "source": [
        "# Train - Val - Test Split"
      ]
    },
    {
      "cell_type": "markdown",
      "metadata": {
        "id": "hXmz6duF1WGi"
      },
      "source": [
        "Train 80% - Test 20% split"
      ]
    },
    {
      "cell_type": "code",
      "metadata": {
        "id": "m99C1fzZ1VXd",
        "colab": {
          "base_uri": "https://localhost:8080/",
          "height": 52
        },
        "outputId": "6dc22105-c36a-402e-9646-64c781431341"
      },
      "source": [
        "from sklearn.model_selection import train_test_split\n",
        "\n",
        "X_train, X_test, y_train, y_test  = train_test_split(data.final_data_lemmatized, \n",
        "                                                                        dummy_y, \n",
        "                                                               stratify=dummy_y,\n",
        "                                                                  test_size=0.2, \n",
        "                                                                 random_state=3)\n",
        "print(\"Train data= \",X_train.shape,\"+\",y_train.shape)  \n",
        "print(\"Test data= \",X_test.shape,\"+\",y_test.shape)"
      ],
      "execution_count": null,
      "outputs": [
        {
          "output_type": "stream",
          "text": [
            "Train data=  (400000,) + (400000,)\n",
            "Test data=  (100000,) + (100000,)\n"
          ],
          "name": "stdout"
        }
      ]
    },
    {
      "cell_type": "markdown",
      "metadata": {
        "id": "hfIt_hF914uj"
      },
      "source": [
        "Train 90% - Validation 10% split"
      ]
    },
    {
      "cell_type": "code",
      "metadata": {
        "id": "NNfnfgHz1e2s"
      },
      "source": [
        "# X_train, X_val, y_train, y_val  = train_test_split(X_train, \n",
        "#                                                    y_train, \n",
        "#                                           stratify=y_train,\n",
        "#                                              test_size=0.1, \n",
        "#                                             random_state=1)\n",
        "# print(\"Train data= \",X_train.shape,\"+\",y_train.shape)  \n",
        "# print(\"Val data= \",X_val.shape,\"+\",y_val.shape)"
      ],
      "execution_count": null,
      "outputs": []
    },
    {
      "cell_type": "markdown",
      "metadata": {
        "id": "IGqy9_bY1-O1"
      },
      "source": [
        "# Converting reviews to vectors"
      ]
    },
    {
      "cell_type": "markdown",
      "metadata": {
        "id": "6qUDUEOc2xfo"
      },
      "source": [
        "Converting texts to sequences and then applying padding"
      ]
    },
    {
      "cell_type": "code",
      "metadata": {
        "id": "m1ZvYNtn2UeI",
        "colab": {
          "base_uri": "https://localhost:8080/",
          "height": 34
        },
        "outputId": "16566719-2e6d-457d-9d5f-41c92e10a72b"
      },
      "source": [
        "from numpy import array\n",
        "from keras.preprocessing.text import one_hot\n",
        "from keras.preprocessing.sequence import pad_sequences\n",
        "vocab_size = 400000\n",
        " \n",
        "from keras.preprocessing.text import Tokenizer\n",
        "word_tokenizer = Tokenizer(num_words=vocab_size)\n",
        "# word_tokenizer = Tokenizer()\n",
        " \n",
        "word_tokenizer.fit_on_texts(X_train)\n",
        "# vocab_size = len(word_tokenizer.word_index) + 1\n",
        "print(vocab_size)\n",
        " \n",
        "trainDatavecs = word_tokenizer.texts_to_sequences(X_train)\n",
        "trainDataVecs = pad_sequences(trainDatavecs, maxlen=maxReviewLength, padding='post')\n",
        " \n",
        "# valDataVecs = word_tokenizer.texts_to_sequences(X_val)\n",
        "# valDataVecs = pad_sequences(valDataVecs, maxlen=maxReviewLength, padding='post')\n",
        " \n",
        "testDataVecs = word_tokenizer.texts_to_sequences(X_test)\n",
        "testDataVecs = pad_sequences(testDataVecs, maxlen=maxReviewLength, padding='post')"
      ],
      "execution_count": null,
      "outputs": [
        {
          "output_type": "stream",
          "text": [
            "400000\n"
          ],
          "name": "stdout"
        }
      ]
    },
    {
      "cell_type": "markdown",
      "metadata": {
        "id": "5kh18_sq273q"
      },
      "source": [
        "# Training and Testing the Data"
      ]
    },
    {
      "cell_type": "markdown",
      "metadata": {
        "id": "AsolXrv23TQu"
      },
      "source": [
        "Deep Learning Model"
      ]
    },
    {
      "cell_type": "code",
      "metadata": {
        "id": "bLUw8yqW3AGF",
        "colab": {
          "base_uri": "https://localhost:8080/",
          "height": 682
        },
        "outputId": "38b9e8ef-db8d-4424-e02f-7853f4bdb8b2"
      },
      "source": [
        "from keras.layers.recurrent import LSTM\n",
        "from keras.layers.convolutional import Conv1D, MaxPooling1D\n",
        "from keras.layers import Dropout,  Bidirectional, Dense, BatchNormalization,  GlobalMaxPool1D, SpatialDropout1D\n",
        "from keras.models import Sequential\n",
        "from keras.layers.embeddings import Embedding\n",
        "from keras.regularizers import l1_l2\n",
        "import keras\n",
        "\n",
        "model = Sequential()\n",
        "\n",
        "model.add(Embedding(vocab_size, 256, input_length=maxReviewLength))\n",
        "\n",
        "model.add((SpatialDropout1D(0.3)))\n",
        "\n",
        "model.add(Conv1D(128, 5, activation='relu', kernel_regularizer=l1_l2(l1=1e-5, l2=1e-4)))\n",
        "model.add(Dropout(0.25))\n",
        "model.add(MaxPooling1D(pool_size=3))\n",
        "model.add(Dropout(0.5))\n",
        "\n",
        "model.add(BatchNormalization())\n",
        "\n",
        "model.add(Bidirectional(LSTM(64, dropout=0.25, recurrent_dropout=0.2, return_sequences=True, kernel_regularizer=l1_l2(l1=1e-5, l2=1e-4))))\n",
        "model.add(BatchNormalization())\n",
        "\n",
        "model.add(Bidirectional(LSTM(32, dropout=0.25, recurrent_dropout=0.2, return_sequences=True, kernel_regularizer=l1_l2(l1=1e-5, l2=1e-4))))\n",
        "model.add(BatchNormalization())\n",
        "\n",
        "model.add(GlobalMaxPool1D())\n",
        "\n",
        "model.add(Dense(64, kernel_regularizer=l1_l2(l1=1e-5, l2=1e-4)))\n",
        "\n",
        "model.add(Dense(1, activation='sigmoid', kernel_regularizer=l1_l2(l1=1e-5, l2=1e-4)))\n",
        "\n",
        "opt = keras.optimizers.Adam(learning_rate=0.0001)\n",
        "model.compile(loss='binary_crossentropy', optimizer=opt, metrics=['accuracy'])\n",
        "print(model.summary())"
      ],
      "execution_count": null,
      "outputs": [
        {
          "output_type": "stream",
          "text": [
            "Model: \"sequential\"\n",
            "_________________________________________________________________\n",
            "Layer (type)                 Output Shape              Param #   \n",
            "=================================================================\n",
            "embedding (Embedding)        (None, 155, 256)          102400000 \n",
            "_________________________________________________________________\n",
            "spatial_dropout1d (SpatialDr (None, 155, 256)          0         \n",
            "_________________________________________________________________\n",
            "conv1d (Conv1D)              (None, 151, 128)          163968    \n",
            "_________________________________________________________________\n",
            "dropout (Dropout)            (None, 151, 128)          0         \n",
            "_________________________________________________________________\n",
            "max_pooling1d (MaxPooling1D) (None, 50, 128)           0         \n",
            "_________________________________________________________________\n",
            "dropout_1 (Dropout)          (None, 50, 128)           0         \n",
            "_________________________________________________________________\n",
            "batch_normalization (BatchNo (None, 50, 128)           512       \n",
            "_________________________________________________________________\n",
            "bidirectional (Bidirectional (None, 50, 128)           98816     \n",
            "_________________________________________________________________\n",
            "batch_normalization_1 (Batch (None, 50, 128)           512       \n",
            "_________________________________________________________________\n",
            "bidirectional_1 (Bidirection (None, 50, 64)            41216     \n",
            "_________________________________________________________________\n",
            "batch_normalization_2 (Batch (None, 50, 64)            256       \n",
            "_________________________________________________________________\n",
            "global_max_pooling1d (Global (None, 64)                0         \n",
            "_________________________________________________________________\n",
            "dense (Dense)                (None, 64)                4160      \n",
            "_________________________________________________________________\n",
            "dense_1 (Dense)              (None, 1)                 65        \n",
            "=================================================================\n",
            "Total params: 102,709,505\n",
            "Trainable params: 102,708,865\n",
            "Non-trainable params: 640\n",
            "_________________________________________________________________\n",
            "None\n"
          ],
          "name": "stdout"
        }
      ]
    },
    {
      "cell_type": "markdown",
      "metadata": {
        "id": "pvZUW9LV3feu"
      },
      "source": [
        "Training the data"
      ]
    },
    {
      "cell_type": "code",
      "metadata": {
        "id": "m-hZLRXi3cY4",
        "colab": {
          "base_uri": "https://localhost:8080/",
          "height": 432
        },
        "outputId": "2c5441ee-1686-43ec-80b2-018541f72518"
      },
      "source": [
        "from sklearn.metrics import accuracy_score\n",
        "from keras.callbacks import ModelCheckpoint \n",
        "\n",
        "final_accuracies = []\n",
        "history_train = []\n",
        "\n",
        "noOfEpochs = 10\n",
        "batchSize = 1024 \n",
        "\n",
        "# filename = 'best.weights.hdf5'\n",
        "# checkpointer = ModelCheckpoint(filepath=filename, verbose=1, save_best_only=True)\n",
        "history_train.append(model.fit(trainDataVecs, y_train, epochs=noOfEpochs, batch_size=batchSize))\n",
        "# model.load_weights(filename)\n",
        "# predicted = np.rint(model.predict(valDataVecs))\n",
        "# final_accuracies.append(accuracy_score(y_val, predicted))\n",
        "# print(accuracy_score(y_val, predicted))"
      ],
      "execution_count": null,
      "outputs": [
        {
          "output_type": "stream",
          "text": [
            "Epoch 1/10\n",
            "  2/391 [..............................] - ETA: 13:04 - loss: 1.7615 - accuracy: 0.4941WARNING:tensorflow:Callbacks method `on_train_batch_end` is slow compared to the batch time (batch time: 0.0008s vs `on_train_batch_end` time: 0.9873s). Check your callbacks.\n"
          ],
          "name": "stdout"
        },
        {
          "output_type": "stream",
          "text": [
            "WARNING:tensorflow:Callbacks method `on_train_batch_end` is slow compared to the batch time (batch time: 0.0008s vs `on_train_batch_end` time: 0.9873s). Check your callbacks.\n"
          ],
          "name": "stderr"
        },
        {
          "output_type": "stream",
          "text": [
            "391/391 [==============================] - 334s 854ms/step - loss: 0.9303 - accuracy: 0.5250\n",
            "Epoch 2/10\n",
            "391/391 [==============================] - 329s 842ms/step - loss: 0.8536 - accuracy: 0.6038\n",
            "Epoch 3/10\n",
            "391/391 [==============================] - 327s 836ms/step - loss: 0.7567 - accuracy: 0.7057\n",
            "Epoch 4/10\n",
            "391/391 [==============================] - 329s 842ms/step - loss: 0.6355 - accuracy: 0.7917\n",
            "Epoch 5/10\n",
            "391/391 [==============================] - 329s 842ms/step - loss: 0.5432 - accuracy: 0.8426\n",
            "Epoch 6/10\n",
            "391/391 [==============================] - 325s 832ms/step - loss: 0.4737 - accuracy: 0.8755\n",
            "Epoch 7/10\n",
            "391/391 [==============================] - 326s 835ms/step - loss: 0.4231 - accuracy: 0.8955\n",
            "Epoch 8/10\n",
            "391/391 [==============================] - 326s 833ms/step - loss: 0.3855 - accuracy: 0.9088\n",
            "Epoch 9/10\n",
            "391/391 [==============================] - 325s 831ms/step - loss: 0.3544 - accuracy: 0.9185\n",
            "Epoch 10/10\n",
            "391/391 [==============================] - 327s 837ms/step - loss: 0.3276 - accuracy: 0.9264\n"
          ],
          "name": "stdout"
        }
      ]
    },
    {
      "cell_type": "markdown",
      "metadata": {
        "id": "cWbf3XRA7hPE"
      },
      "source": [
        "Training Results"
      ]
    },
    {
      "cell_type": "code",
      "metadata": {
        "id": "J6ruuogMTGnZ",
        "colab": {
          "base_uri": "https://localhost:8080/",
          "height": 298
        },
        "outputId": "b52fc3f3-7aa5-43bc-ba65-0e5576e05e32"
      },
      "source": [
        "from itertools import chain\n",
        "import matplotlib.pyplot as plt\n",
        "\n",
        "acc_train = history_train[0].history['accuracy']\n",
        "# acc_val = history_train[0].history['val_accuracy']\n",
        "epochs = range(0,len(acc_train))\n",
        "plt.plot(epochs, acc_train, 'g', label='Training Accuracy')\n",
        "# plt.plot(epochs, acc_val, 'b', label='Validation Accuracy')\n",
        "plt.title('Training and Validation Accuracy')\n",
        "plt.xlabel('Epochs')\n",
        "plt.ylabel('Accuracy')\n",
        "plt.legend()\n",
        "plt.show()"
      ],
      "execution_count": null,
      "outputs": [
        {
          "output_type": "display_data",
          "data": {
            "image/png": "[encoded data removed]",
            "text/plain": [
              "<Figure size 432x288 with 1 Axes>"
            ]
          },
          "metadata": {
            "tags": []
          }
        }
      ]
    },
    {
      "cell_type": "code",
      "metadata": {
        "id": "Ffetuqr9TVcC",
        "colab": {
          "base_uri": "https://localhost:8080/",
          "height": 298
        },
        "outputId": "4f2cec6e-b3b1-493b-ea3d-d97becee5bdb"
      },
      "source": [
        "loss_train = history_train[0].history['loss']\n",
        "# loss_val = history_train[0].history['val_loss']\n",
        "epochs = range(0,len(loss_train))\n",
        "plt.plot(epochs, loss_train, 'g', label='Training loss')\n",
        "# plt.plot(epochs, loss_val, 'b', label='Validation loss')\n",
        "plt.title('Training and Validation loss')\n",
        "plt.xlabel('Epochs')\n",
        "plt.ylabel('Loss')\n",
        "plt.legend()\n",
        "plt.show()"
      ],
      "execution_count": null,
      "outputs": [
        {
          "output_type": "display_data",
          "data": {
            "image/png": "[encoded data removed]",
            "text/plain": [
              "<Figure size 432x288 with 1 Axes>"
            ]
          },
          "metadata": {
            "tags": []
          }
        }
      ]
    },
    {
      "cell_type": "code",
      "metadata": {
        "id": "8IxBtaINTWAY"
      },
      "source": [
        "# print(\"Validation Accuracy = \", sum(final_accuracies) / len(final_accuracies))"
      ],
      "execution_count": null,
      "outputs": []
    },
    {
      "cell_type": "markdown",
      "metadata": {
        "id": "gMU0R8oa7bAP"
      },
      "source": [
        "Final Test Accuracy"
      ]
    },
    {
      "cell_type": "code",
      "metadata": {
        "id": "FbGURv1xTr1F",
        "colab": {
          "base_uri": "https://localhost:8080/",
          "height": 34
        },
        "outputId": "232d35ce-e6e5-48cc-8052-25c77f8621ee"
      },
      "source": [
        "# model.load_weights(filename)\n",
        "predicted = np.rint(model.predict(testDataVecs))\n",
        "print(\"Test accuracy = \",accuracy_score(y_test, predicted))"
      ],
      "execution_count": null,
      "outputs": [
        {
          "output_type": "stream",
          "text": [
            "Test accuracy =  0.85108\n"
          ],
          "name": "stdout"
        }
      ]
    }
  ]
}